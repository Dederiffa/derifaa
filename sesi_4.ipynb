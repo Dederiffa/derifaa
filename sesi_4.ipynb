{
  "nbformat": 4,
  "nbformat_minor": 0,
  "metadata": {
    "colab": {
      "provenance": [],
      "authorship_tag": "ABX9TyMZyv/L9zroF2PfKG8jgOkv",
      "include_colab_link": true
    },
    "kernelspec": {
      "name": "python3",
      "display_name": "Python 3"
    },
    "language_info": {
      "name": "python"
    }
  },
  "cells": [
    {
      "cell_type": "markdown",
      "metadata": {
        "id": "view-in-github",
        "colab_type": "text"
      },
      "source": [
        "<a href=\"https://colab.research.google.com/github/Dederiffa/derifaa/blob/main/sesi_4.ipynb\" target=\"_parent\"><img src=\"https://colab.research.google.com/assets/colab-badge.svg\" alt=\"Open In Colab\"/></a>"
      ]
    },
    {
      "cell_type": "code",
      "execution_count": 2,
      "metadata": {
        "colab": {
          "base_uri": "https://localhost:8080/"
        },
        "id": "ae95TNGfjPlB",
        "outputId": "1a62aad8-198a-4cf1-d41c-58bf61dd8ef2"
      },
      "outputs": [
        {
          "output_type": "stream",
          "name": "stdout",
          "text": [
            "Mike's remaining balance after purchase: 39000 rupiah\n"
          ]
        }
      ],
      "source": [
        "# Initial balance in Mike's wallet\n",
        "balance = 100000\n",
        "\n",
        "# Prices of items bought\n",
        "noodles_price = 10000\n",
        "meat_price = 50000\n",
        "garlic_price = 11000\n",
        "\n",
        "# Calculate total cost before discount\n",
        "total_cost = noodles_price + meat_price + garlic_price\n",
        "\n",
        "# Apply discount\n",
        "discount = 10000\n",
        "total_cost -= discount\n",
        "\n",
        "# Calculate new balance after purchase\n",
        "balance -= total_cost\n",
        "\n",
        "# Print the remaining balance\n",
        "print(\"Mike's remaining balance after purchase:\", balance, \"rupiah\")"
      ]
    }
  ]
}